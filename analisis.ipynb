{
 "cells": [
  {
   "cell_type": "code",
   "execution_count": 8,
   "metadata": {},
   "outputs": [],
   "source": [
    "import pandas as pd\n",
    "import duckdb"
   ]
  },
  {
   "cell_type": "code",
   "execution_count": 9,
   "metadata": {},
   "outputs": [],
   "source": [
    "data1 = pd.read_parquet('/Users/agusvaser/Documents/ITBA/2023/2ndo cuatri/Visualización de la Información/Trabajo Practico/ResultadosElectorales_1v.parquet')\n",
    "data2 = pd.read_parquet('/Users/agusvaser/Documents/ITBA/2023/2ndo cuatri/Visualización de la Información/Trabajo Practico/ResultadosElectorales_PASO_2023 (1).parquet')"
   ]
  },
  {
   "cell_type": "code",
   "execution_count": 28,
   "metadata": {},
   "outputs": [
    {
     "data": {
      "text/plain": [
       "Index(['año', 'eleccion_tipo', 'recuento_tipo', 'padron_tipo', 'distrito_id',\n",
       "       'distrito_nombre', 'seccionprovincial_id', 'seccionprovincial_nombre',\n",
       "       'seccion_id', 'seccion_nombre', 'circuito_id', 'circuito_nombre',\n",
       "       'mesa_id', 'mesa_tipo', 'mesa_electores', 'cargo_id', 'cargo_nombre',\n",
       "       'agrupacion_id', 'agrupacion_nombre', 'lista_numero', 'lista_nombre',\n",
       "       'votos_tipo', 'votos_cantidad'],\n",
       "      dtype='object')"
      ]
     },
     "execution_count": 28,
     "metadata": {},
     "output_type": "execute_result"
    }
   ],
   "source": [
    "data1.columns"
   ]
  },
  {
   "cell_type": "code",
   "execution_count": 10,
   "metadata": {},
   "outputs": [
    {
     "data": {
      "text/plain": [
       "(5868102, 23)"
      ]
     },
     "execution_count": 10,
     "metadata": {},
     "output_type": "execute_result"
    }
   ],
   "source": [
    "data1.shape"
   ]
  },
  {
   "cell_type": "code",
   "execution_count": 11,
   "metadata": {},
   "outputs": [
    {
     "data": {
      "text/plain": [
       "(16600877, 23)"
      ]
     },
     "execution_count": 11,
     "metadata": {},
     "output_type": "execute_result"
    }
   ],
   "source": [
    "data2.shape"
   ]
  },
  {
   "cell_type": "code",
   "execution_count": 13,
   "metadata": {},
   "outputs": [
    {
     "name": "stdout",
     "output_type": "stream",
     "text": [
      "Data.py\n",
      "ResultadosElectorales_1v.parquet\n",
      "ResultadosElectorales_PASO_2023 (1).parquet\n"
     ]
    }
   ],
   "source": [
    "!ls"
   ]
  },
  {
   "cell_type": "code",
   "execution_count": 31,
   "metadata": {},
   "outputs": [],
   "source": [
    "participacion = duckdb.sql(\"\"\"select eleccion_tipo, agrupacion_nombre,sum(votos_cantidad) as count \n",
    "from 'ResultadosElectorales_*.parquet' \n",
    "where cargo_id = 1 \n",
    "group by 1,2\"\"\").df()"
   ]
  },
  {
   "cell_type": "code",
   "execution_count": 43,
   "metadata": {},
   "outputs": [
    {
     "data": {
      "text/html": [
       "<div>\n",
       "<style scoped>\n",
       "    .dataframe tbody tr th:only-of-type {\n",
       "        vertical-align: middle;\n",
       "    }\n",
       "\n",
       "    .dataframe tbody tr th {\n",
       "        vertical-align: top;\n",
       "    }\n",
       "\n",
       "    .dataframe thead th {\n",
       "        text-align: right;\n",
       "    }\n",
       "</style>\n",
       "<table border=\"1\" class=\"dataframe\">\n",
       "  <thead>\n",
       "    <tr style=\"text-align: right;\">\n",
       "      <th></th>\n",
       "      <th>agrupacion_nombre</th>\n",
       "    </tr>\n",
       "  </thead>\n",
       "  <tbody>\n",
       "    <tr>\n",
       "      <th>0</th>\n",
       "      <td>FRENTE LIBER.AR</td>\n",
       "    </tr>\n",
       "    <tr>\n",
       "      <th>1</th>\n",
       "      <td>FRENTE DE IZQUIERDA Y DE TRABAJADORES - UNIDAD</td>\n",
       "    </tr>\n",
       "    <tr>\n",
       "      <th>2</th>\n",
       "      <td>LA LIBERTAD AVANZA</td>\n",
       "    </tr>\n",
       "    <tr>\n",
       "      <th>3</th>\n",
       "      <td>HACEMOS POR NUESTRO PAIS</td>\n",
       "    </tr>\n",
       "    <tr>\n",
       "      <th>4</th>\n",
       "      <td>POLITICA OBRERA</td>\n",
       "    </tr>\n",
       "    <tr>\n",
       "      <th>5</th>\n",
       "      <td>MOVIMIENTO DE ACCION VECINAL</td>\n",
       "    </tr>\n",
       "    <tr>\n",
       "      <th>6</th>\n",
       "      <td>MOVIMIENTO AL SOCIALISMO</td>\n",
       "    </tr>\n",
       "    <tr>\n",
       "      <th>7</th>\n",
       "      <td>MOVIMIENTO IZQUIERDA JUVENTUD Y DIGNIDAD</td>\n",
       "    </tr>\n",
       "    <tr>\n",
       "      <th>8</th>\n",
       "      <td>None</td>\n",
       "    </tr>\n",
       "    <tr>\n",
       "      <th>9</th>\n",
       "      <td>PRINCIPIOS Y VALORES</td>\n",
       "    </tr>\n",
       "    <tr>\n",
       "      <th>10</th>\n",
       "      <td>MOVIMIENTO LIBRES DEL SUR</td>\n",
       "    </tr>\n",
       "    <tr>\n",
       "      <th>11</th>\n",
       "      <td>UNION POR LA PATRIA</td>\n",
       "    </tr>\n",
       "    <tr>\n",
       "      <th>12</th>\n",
       "      <td>FRENTE PATRIOTA FEDERAL</td>\n",
       "    </tr>\n",
       "    <tr>\n",
       "      <th>13</th>\n",
       "      <td>JUNTOS POR EL CAMBIO</td>\n",
       "    </tr>\n",
       "    <tr>\n",
       "      <th>14</th>\n",
       "      <td>PROYECTO JOVEN</td>\n",
       "    </tr>\n",
       "    <tr>\n",
       "      <th>15</th>\n",
       "      <td>UNION DEL CENTRO DEMOCRATICO</td>\n",
       "    </tr>\n",
       "  </tbody>\n",
       "</table>\n",
       "</div>"
      ],
      "text/plain": [
       "                                 agrupacion_nombre\n",
       "0                                  FRENTE LIBER.AR\n",
       "1   FRENTE DE IZQUIERDA Y DE TRABAJADORES - UNIDAD\n",
       "2                               LA LIBERTAD AVANZA\n",
       "3                         HACEMOS POR NUESTRO PAIS\n",
       "4                                  POLITICA OBRERA\n",
       "5                     MOVIMIENTO DE ACCION VECINAL\n",
       "6                         MOVIMIENTO AL SOCIALISMO\n",
       "7         MOVIMIENTO IZQUIERDA JUVENTUD Y DIGNIDAD\n",
       "8                                             None\n",
       "9                             PRINCIPIOS Y VALORES\n",
       "10                       MOVIMIENTO LIBRES DEL SUR\n",
       "11                             UNION POR LA PATRIA\n",
       "12                         FRENTE PATRIOTA FEDERAL\n",
       "13                            JUNTOS POR EL CAMBIO\n",
       "14                                  PROYECTO JOVEN\n",
       "15                    UNION DEL CENTRO DEMOCRATICO"
      ]
     },
     "execution_count": 43,
     "metadata": {},
     "output_type": "execute_result"
    }
   ],
   "source": [
    "agrupaciones = duckdb.sql(\"\"\"select distinct agrupacion_nombre\n",
    "from 'ResultadosElectorales_*.parquet'\n",
    "where cargo_id = 1\"\"\").df()\n",
    "\n",
    "agrupaciones"
   ]
  },
  {
   "cell_type": "code",
   "execution_count": 35,
   "metadata": {},
   "outputs": [
    {
     "data": {
      "text/html": [
       "\n",
       "<style>\n",
       "  #altair-viz-cd155fc996534050be13184a33844f79.vega-embed {\n",
       "    width: 100%;\n",
       "    display: flex;\n",
       "  }\n",
       "\n",
       "  #altair-viz-cd155fc996534050be13184a33844f79.vega-embed details,\n",
       "  #altair-viz-cd155fc996534050be13184a33844f79.vega-embed details summary {\n",
       "    position: relative;\n",
       "  }\n",
       "</style>\n",
       "<div id=\"altair-viz-cd155fc996534050be13184a33844f79\"></div>\n",
       "<script type=\"text/javascript\">\n",
       "  var VEGA_DEBUG = (typeof VEGA_DEBUG == \"undefined\") ? {} : VEGA_DEBUG;\n",
       "  (function(spec, embedOpt){\n",
       "    let outputDiv = document.currentScript.previousElementSibling;\n",
       "    if (outputDiv.id !== \"altair-viz-cd155fc996534050be13184a33844f79\") {\n",
       "      outputDiv = document.getElementById(\"altair-viz-cd155fc996534050be13184a33844f79\");\n",
       "    }\n",
       "    const paths = {\n",
       "      \"vega\": \"https://cdn.jsdelivr.net/npm/vega@5?noext\",\n",
       "      \"vega-lib\": \"https://cdn.jsdelivr.net/npm/vega-lib?noext\",\n",
       "      \"vega-lite\": \"https://cdn.jsdelivr.net/npm/vega-lite@5.15.1?noext\",\n",
       "      \"vega-embed\": \"https://cdn.jsdelivr.net/npm/vega-embed@6?noext\",\n",
       "    };\n",
       "\n",
       "    function maybeLoadScript(lib, version) {\n",
       "      var key = `${lib.replace(\"-\", \"\")}_version`;\n",
       "      return (VEGA_DEBUG[key] == version) ?\n",
       "        Promise.resolve(paths[lib]) :\n",
       "        new Promise(function(resolve, reject) {\n",
       "          var s = document.createElement('script');\n",
       "          document.getElementsByTagName(\"head\")[0].appendChild(s);\n",
       "          s.async = true;\n",
       "          s.onload = () => {\n",
       "            VEGA_DEBUG[key] = version;\n",
       "            return resolve(paths[lib]);\n",
       "          };\n",
       "          s.onerror = () => reject(`Error loading script: ${paths[lib]}`);\n",
       "          s.src = paths[lib];\n",
       "        });\n",
       "    }\n",
       "\n",
       "    function showError(err) {\n",
       "      outputDiv.innerHTML = `<div class=\"error\" style=\"color:red;\">${err}</div>`;\n",
       "      throw err;\n",
       "    }\n",
       "\n",
       "    function displayChart(vegaEmbed) {\n",
       "      vegaEmbed(outputDiv, spec, embedOpt)\n",
       "        .catch(err => showError(`Javascript Error: ${err.message}<br>This usually means there's a typo in your chart specification. See the javascript console for the full traceback.`));\n",
       "    }\n",
       "\n",
       "    if(typeof define === \"function\" && define.amd) {\n",
       "      requirejs.config({paths});\n",
       "      require([\"vega-embed\"], displayChart, err => showError(`Error loading script: ${err.message}`));\n",
       "    } else {\n",
       "      maybeLoadScript(\"vega\", \"5\")\n",
       "        .then(() => maybeLoadScript(\"vega-lite\", \"5.15.1\"))\n",
       "        .then(() => maybeLoadScript(\"vega-embed\", \"6\"))\n",
       "        .catch(showError)\n",
       "        .then(() => displayChart(vegaEmbed));\n",
       "    }\n",
       "  })({\"config\": {\"view\": {\"continuousWidth\": 300, \"continuousHeight\": 300}}, \"data\": {\"name\": \"data-2bf35d0decd6937974705b442072e38b\"}, \"mark\": {\"type\": \"bar\"}, \"encoding\": {\"color\": {\"field\": \"agrupacion_nombre\", \"scale\": {\"domain\": [\"LA LIBERTAD AVANZA\"], \"range\": [\"#FF0000\"]}, \"type\": \"nominal\"}, \"x\": {\"field\": \"count\", \"type\": \"quantitative\"}, \"y\": {\"field\": \"eleccion_tipo\", \"type\": \"nominal\"}}, \"$schema\": \"https://vega.github.io/schema/vega-lite/v5.15.1.json\", \"datasets\": {\"data-2bf35d0decd6937974705b442072e38b\": [{\"eleccion_tipo\": \"GENERAL\", \"agrupacion_nombre\": \"JUNTOS POR EL CAMBIO\", \"count\": 6267152.0}, {\"eleccion_tipo\": \"PASO\", \"agrupacion_nombre\": \"POLITICA OBRERA\", \"count\": 62404.0}, {\"eleccion_tipo\": \"PASO\", \"agrupacion_nombre\": \"LA LIBERTAD AVANZA\", \"count\": 7116352.0}, {\"eleccion_tipo\": \"PASO\", \"agrupacion_nombre\": \"MOVIMIENTO DE ACCION VECINAL\", \"count\": 42252.0}, {\"eleccion_tipo\": \"PASO\", \"agrupacion_nombre\": \"HACEMOS POR NUESTRO PAIS\", \"count\": 907437.0}, {\"eleccion_tipo\": \"PASO\", \"agrupacion_nombre\": \"FRENTE DE IZQUIERDA Y DE TRABAJADORES - UNIDAD\", \"count\": 628893.0}, {\"eleccion_tipo\": \"PASO\", \"agrupacion_nombre\": \"MOVIMIENTO IZQUIERDA JUVENTUD Y DIGNIDAD\", \"count\": 81972.0}, {\"eleccion_tipo\": \"GENERAL\", \"agrupacion_nombre\": null, \"count\": 808957.0}, {\"eleccion_tipo\": \"PASO\", \"agrupacion_nombre\": \"MOVIMIENTO LIBRES DEL SUR\", \"count\": 154338.0}, {\"eleccion_tipo\": \"PASO\", \"agrupacion_nombre\": \"MOVIMIENTO AL SOCIALISMO\", \"count\": 85628.0}, {\"eleccion_tipo\": \"GENERAL\", \"agrupacion_nombre\": \"LA LIBERTAD AVANZA\", \"count\": 7884336.0}, {\"eleccion_tipo\": \"GENERAL\", \"agrupacion_nombre\": \"FRENTE DE IZQUIERDA Y DE TRABAJADORES - UNIDAD\", \"count\": 709932.0}, {\"eleccion_tipo\": \"GENERAL\", \"agrupacion_nombre\": \"HACEMOS POR NUESTRO PAIS\", \"count\": 1784315.0}, {\"eleccion_tipo\": \"PASO\", \"agrupacion_nombre\": \"UNION DEL CENTRO DEMOCRATICO\", \"count\": 11982.0}, {\"eleccion_tipo\": \"PASO\", \"agrupacion_nombre\": \"JUNTOS POR EL CAMBIO\", \"count\": 6698029.0}, {\"eleccion_tipo\": \"PASO\", \"agrupacion_nombre\": \"PROYECTO JOVEN\", \"count\": 23870.0}, {\"eleccion_tipo\": \"PASO\", \"agrupacion_nombre\": \"PRINCIPIOS Y VALORES\", \"count\": 187893.0}, {\"eleccion_tipo\": \"PASO\", \"agrupacion_nombre\": null, \"count\": 1477233.0}, {\"eleccion_tipo\": \"GENERAL\", \"agrupacion_nombre\": \"UNION POR LA PATRIA\", \"count\": 9645983.0}, {\"eleccion_tipo\": \"PASO\", \"agrupacion_nombre\": \"FRENTE LIBER.AR\", \"count\": 26962.0}, {\"eleccion_tipo\": \"PASO\", \"agrupacion_nombre\": \"UNION POR LA PATRIA\", \"count\": 6460689.0}, {\"eleccion_tipo\": \"PASO\", \"agrupacion_nombre\": \"FRENTE PATRIOTA FEDERAL\", \"count\": 50842.0}]}}, {\"mode\": \"vega-lite\"});\n",
       "</script>"
      ],
      "text/plain": [
       "alt.Chart(...)"
      ]
     },
     "execution_count": 35,
     "metadata": {},
     "output_type": "execute_result"
    }
   ],
   "source": [
    "import altair as alt\n",
    "\n",
    "colorlist=[]\n",
    "\n",
    "alt.Chart(participacion).mark_bar().encode(\n",
    "    x=\"count\",\n",
    "    y='eleccion_tipo',\n",
    "    # color=\"agrupacion_nombre\"2\n",
    "    color=alt.Color('agrupacion_nombre').scale(domain=agrupaciones, range=colorlist)\n",
    ")\n"
   ]
  }
 ],
 "metadata": {
  "kernelspec": {
   "display_name": "Python 3.10.8 64-bit",
   "language": "python",
   "name": "python3"
  },
  "language_info": {
   "codemirror_mode": {
    "name": "ipython",
    "version": 3
   },
   "file_extension": ".py",
   "mimetype": "text/x-python",
   "name": "python",
   "nbconvert_exporter": "python",
   "pygments_lexer": "ipython3",
   "version": "3.10.8"
  },
  "orig_nbformat": 4,
  "vscode": {
   "interpreter": {
    "hash": "b0fa6594d8f4cbf19f97940f81e996739fb7646882a419484c72d19e05852a7e"
   }
  }
 },
 "nbformat": 4,
 "nbformat_minor": 2
}
