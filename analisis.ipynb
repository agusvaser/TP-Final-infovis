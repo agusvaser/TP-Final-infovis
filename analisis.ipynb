{
 "cells": [
  {
   "cell_type": "code",
   "execution_count": 17,
   "metadata": {},
   "outputs": [],
   "source": [
    "import pandas as pd\n",
    "import duckdb"
   ]
  },
  {
   "cell_type": "code",
   "execution_count": 18,
   "metadata": {},
   "outputs": [],
   "source": [
    "data1 = pd.read_parquet('/Users/agusvaser/Documents/ITBA/2023/2ndo cuatri/Visualización de la Información/Trabajo Practico/ResultadosElectorales_1v.parquet')\n",
    "data2 = pd.read_parquet('/Users/agusvaser/Documents/ITBA/2023/2ndo cuatri/Visualización de la Información/Trabajo Practico/ResultadosElectorales_PASO_2023 (1).parquet')"
   ]
  },
  {
   "cell_type": "code",
   "execution_count": 19,
   "metadata": {},
   "outputs": [],
   "source": [
    "data = duckdb.sql(\"\"\"select * \n",
    "from data1 \n",
    "\n",
    "union \n",
    "\n",
    "select *\n",
    "from data2 \n",
    "\"\"\")"
   ]
  },
  {
   "cell_type": "code",
   "execution_count": 20,
   "metadata": {},
   "outputs": [],
   "source": [
    "elecciones_presidenciales = duckdb.sql(\"\"\"select *\n",
    "from data\n",
    "where cargo_id = 1\n",
    "\"\"\")"
   ]
  },
  {
   "cell_type": "code",
   "execution_count": 21,
   "metadata": {},
   "outputs": [
    {
     "data": {
      "application/vnd.jupyter.widget-view+json": {
       "model_id": "288b553aa635484095d9869092844a3b",
       "version_major": 2,
       "version_minor": 0
      },
      "text/plain": [
       "FloatProgress(value=0.0, layout=Layout(width='auto'), style=ProgressStyle(bar_color='black'))"
      ]
     },
     "metadata": {},
     "output_type": "display_data"
    }
   ],
   "source": [
    "participacion = duckdb.sql(\"\"\"select eleccion_tipo, agrupacion_nombre,sum(votos_cantidad) as count \n",
    "from elecciones_presidenciales\n",
    "group by 1,2\"\"\").df()"
   ]
  },
  {
   "cell_type": "code",
   "execution_count": 23,
   "metadata": {},
   "outputs": [
    {
     "data": {
      "application/vnd.jupyter.widget-view+json": {
       "model_id": "cb330d7af81649beb26c6fe4de03c4f2",
       "version_major": 2,
       "version_minor": 0
      },
      "text/plain": [
       "FloatProgress(value=0.0, layout=Layout(width='auto'), style=ProgressStyle(bar_color='black'))"
      ]
     },
     "metadata": {},
     "output_type": "display_data"
    }
   ],
   "source": [
    "agrupaciones = duckdb.sql(\"\"\"select distinct agrupacion_nombre\n",
    "from elecciones_presidenciales\n",
    "\"\"\").df()"
   ]
  },
  {
   "cell_type": "code",
   "execution_count": 24,
   "metadata": {},
   "outputs": [
    {
     "data": {
      "text/html": [
       "\n",
       "<style>\n",
       "  #altair-viz-6397dc2e07fe48b1b6763e0b0586add5.vega-embed {\n",
       "    width: 100%;\n",
       "    display: flex;\n",
       "  }\n",
       "\n",
       "  #altair-viz-6397dc2e07fe48b1b6763e0b0586add5.vega-embed details,\n",
       "  #altair-viz-6397dc2e07fe48b1b6763e0b0586add5.vega-embed details summary {\n",
       "    position: relative;\n",
       "  }\n",
       "</style>\n",
       "<div id=\"altair-viz-6397dc2e07fe48b1b6763e0b0586add5\"></div>\n",
       "<script type=\"text/javascript\">\n",
       "  var VEGA_DEBUG = (typeof VEGA_DEBUG == \"undefined\") ? {} : VEGA_DEBUG;\n",
       "  (function(spec, embedOpt){\n",
       "    let outputDiv = document.currentScript.previousElementSibling;\n",
       "    if (outputDiv.id !== \"altair-viz-6397dc2e07fe48b1b6763e0b0586add5\") {\n",
       "      outputDiv = document.getElementById(\"altair-viz-6397dc2e07fe48b1b6763e0b0586add5\");\n",
       "    }\n",
       "    const paths = {\n",
       "      \"vega\": \"https://cdn.jsdelivr.net/npm/vega@5?noext\",\n",
       "      \"vega-lib\": \"https://cdn.jsdelivr.net/npm/vega-lib?noext\",\n",
       "      \"vega-lite\": \"https://cdn.jsdelivr.net/npm/vega-lite@5.15.1?noext\",\n",
       "      \"vega-embed\": \"https://cdn.jsdelivr.net/npm/vega-embed@6?noext\",\n",
       "    };\n",
       "\n",
       "    function maybeLoadScript(lib, version) {\n",
       "      var key = `${lib.replace(\"-\", \"\")}_version`;\n",
       "      return (VEGA_DEBUG[key] == version) ?\n",
       "        Promise.resolve(paths[lib]) :\n",
       "        new Promise(function(resolve, reject) {\n",
       "          var s = document.createElement('script');\n",
       "          document.getElementsByTagName(\"head\")[0].appendChild(s);\n",
       "          s.async = true;\n",
       "          s.onload = () => {\n",
       "            VEGA_DEBUG[key] = version;\n",
       "            return resolve(paths[lib]);\n",
       "          };\n",
       "          s.onerror = () => reject(`Error loading script: ${paths[lib]}`);\n",
       "          s.src = paths[lib];\n",
       "        });\n",
       "    }\n",
       "\n",
       "    function showError(err) {\n",
       "      outputDiv.innerHTML = `<div class=\"error\" style=\"color:red;\">${err}</div>`;\n",
       "      throw err;\n",
       "    }\n",
       "\n",
       "    function displayChart(vegaEmbed) {\n",
       "      vegaEmbed(outputDiv, spec, embedOpt)\n",
       "        .catch(err => showError(`Javascript Error: ${err.message}<br>This usually means there's a typo in your chart specification. See the javascript console for the full traceback.`));\n",
       "    }\n",
       "\n",
       "    if(typeof define === \"function\" && define.amd) {\n",
       "      requirejs.config({paths});\n",
       "      require([\"vega-embed\"], displayChart, err => showError(`Error loading script: ${err.message}`));\n",
       "    } else {\n",
       "      maybeLoadScript(\"vega\", \"5\")\n",
       "        .then(() => maybeLoadScript(\"vega-lite\", \"5.15.1\"))\n",
       "        .then(() => maybeLoadScript(\"vega-embed\", \"6\"))\n",
       "        .catch(showError)\n",
       "        .then(() => displayChart(vegaEmbed));\n",
       "    }\n",
       "  })({\"config\": {\"view\": {\"continuousWidth\": 300, \"continuousHeight\": 300}}, \"data\": {\"name\": \"data-acbd36863b9d26f8f18446e28244bb1b\"}, \"mark\": {\"type\": \"bar\"}, \"encoding\": {\"x\": {\"field\": \"count\", \"type\": \"quantitative\"}, \"y\": {\"field\": \"eleccion_tipo\", \"type\": \"nominal\"}}, \"$schema\": \"https://vega.github.io/schema/vega-lite/v5.15.1.json\", \"datasets\": {\"data-acbd36863b9d26f8f18446e28244bb1b\": [{\"eleccion_tipo\": \"PASO\", \"agrupacion_nombre\": \"PRINCIPIOS Y VALORES\", \"count\": 187893.0}, {\"eleccion_tipo\": \"PASO\", \"agrupacion_nombre\": null, \"count\": 1477233.0}, {\"eleccion_tipo\": \"PASO\", \"agrupacion_nombre\": \"MOVIMIENTO AL SOCIALISMO\", \"count\": 85628.0}, {\"eleccion_tipo\": \"GENERAL\", \"agrupacion_nombre\": null, \"count\": 808957.0}, {\"eleccion_tipo\": \"PASO\", \"agrupacion_nombre\": \"MOVIMIENTO LIBRES DEL SUR\", \"count\": 154338.0}, {\"eleccion_tipo\": \"GENERAL\", \"agrupacion_nombre\": \"UNION POR LA PATRIA\", \"count\": 9645983.0}, {\"eleccion_tipo\": \"PASO\", \"agrupacion_nombre\": \"FRENTE LIBER.AR\", \"count\": 26962.0}, {\"eleccion_tipo\": \"PASO\", \"agrupacion_nombre\": \"MOVIMIENTO IZQUIERDA JUVENTUD Y DIGNIDAD\", \"count\": 81972.0}, {\"eleccion_tipo\": \"GENERAL\", \"agrupacion_nombre\": \"HACEMOS POR NUESTRO PAIS\", \"count\": 1784315.0}, {\"eleccion_tipo\": \"GENERAL\", \"agrupacion_nombre\": \"LA LIBERTAD AVANZA\", \"count\": 7884336.0}, {\"eleccion_tipo\": \"GENERAL\", \"agrupacion_nombre\": \"FRENTE DE IZQUIERDA Y DE TRABAJADORES - UNIDAD\", \"count\": 709932.0}, {\"eleccion_tipo\": \"PASO\", \"agrupacion_nombre\": \"PROYECTO JOVEN\", \"count\": 23870.0}, {\"eleccion_tipo\": \"PASO\", \"agrupacion_nombre\": \"JUNTOS POR EL CAMBIO\", \"count\": 6698029.0}, {\"eleccion_tipo\": \"PASO\", \"agrupacion_nombre\": \"UNION DEL CENTRO DEMOCRATICO\", \"count\": 11982.0}, {\"eleccion_tipo\": \"GENERAL\", \"agrupacion_nombre\": \"JUNTOS POR EL CAMBIO\", \"count\": 6267152.0}, {\"eleccion_tipo\": \"PASO\", \"agrupacion_nombre\": \"HACEMOS POR NUESTRO PAIS\", \"count\": 907437.0}, {\"eleccion_tipo\": \"PASO\", \"agrupacion_nombre\": \"LA LIBERTAD AVANZA\", \"count\": 7116352.0}, {\"eleccion_tipo\": \"PASO\", \"agrupacion_nombre\": \"FRENTE DE IZQUIERDA Y DE TRABAJADORES - UNIDAD\", \"count\": 628893.0}, {\"eleccion_tipo\": \"PASO\", \"agrupacion_nombre\": \"POLITICA OBRERA\", \"count\": 62404.0}, {\"eleccion_tipo\": \"PASO\", \"agrupacion_nombre\": \"MOVIMIENTO DE ACCION VECINAL\", \"count\": 42252.0}, {\"eleccion_tipo\": \"PASO\", \"agrupacion_nombre\": \"UNION POR LA PATRIA\", \"count\": 6460689.0}, {\"eleccion_tipo\": \"PASO\", \"agrupacion_nombre\": \"FRENTE PATRIOTA FEDERAL\", \"count\": 50842.0}]}}, {\"mode\": \"vega-lite\"});\n",
       "</script>"
      ],
      "text/plain": [
       "alt.Chart(...)"
      ]
     },
     "execution_count": 24,
     "metadata": {},
     "output_type": "execute_result"
    }
   ],
   "source": [
    "import altair as alt\n",
    "\n",
    "colorlist=[]\n",
    "\n",
    "alt.Chart(participacion).mark_bar().encode(\n",
    "    x=\"count\",\n",
    "    y='eleccion_tipo',\n",
    "    # color=alt.Color('agrupacion_nombre').scale(domain=agrupaciones, range=colorlist)\n",
    ")\n"
   ]
  }
 ],
 "metadata": {
  "kernelspec": {
   "display_name": "Python 3.10.8 64-bit",
   "language": "python",
   "name": "python3"
  },
  "language_info": {
   "codemirror_mode": {
    "name": "ipython",
    "version": 3
   },
   "file_extension": ".py",
   "mimetype": "text/x-python",
   "name": "python",
   "nbconvert_exporter": "python",
   "pygments_lexer": "ipython3",
   "version": "3.10.8"
  },
  "orig_nbformat": 4,
  "vscode": {
   "interpreter": {
    "hash": "b0fa6594d8f4cbf19f97940f81e996739fb7646882a419484c72d19e05852a7e"
   }
  }
 },
 "nbformat": 4,
 "nbformat_minor": 2
}
