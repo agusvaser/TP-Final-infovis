{
 "cells": [
  {
   "cell_type": "code",
   "execution_count": 1,
   "metadata": {},
   "outputs": [],
   "source": [
    "import pandas as pd\n",
    "import duckdb"
   ]
  },
  {
   "cell_type": "code",
   "execution_count": 31,
   "metadata": {},
   "outputs": [],
   "source": [
    "generales = pd.read_parquet('/Users/agusvaser/Documents/ITBA/2023/2ndo cuatri/Visualización de la Información/Trabajo Practico/ResultadosElectorales_1v.parquet')\n",
    "paso = pd.read_parquet('/Users/agusvaser/Documents/ITBA/2023/2ndo cuatri/Visualización de la Información/Trabajo Practico/ResultadosElectorales_PASO_2023 (1).parquet')"
   ]
  },
  {
   "cell_type": "code",
   "execution_count": 39,
   "metadata": {},
   "outputs": [],
   "source": [
    "data = duckdb.sql(\"\"\"select * \n",
    "from generales\n",
    "\n",
    "union \n",
    "\n",
    "select *\n",
    "from paso\n",
    "\"\"\")"
   ]
  },
  {
   "cell_type": "code",
   "execution_count": 12,
   "metadata": {},
   "outputs": [
    {
     "data": {
      "text/html": [
       "<div>\n",
       "<style scoped>\n",
       "    .dataframe tbody tr th:only-of-type {\n",
       "        vertical-align: middle;\n",
       "    }\n",
       "\n",
       "    .dataframe tbody tr th {\n",
       "        vertical-align: top;\n",
       "    }\n",
       "\n",
       "    .dataframe thead th {\n",
       "        text-align: right;\n",
       "    }\n",
       "</style>\n",
       "<table border=\"1\" class=\"dataframe\">\n",
       "  <thead>\n",
       "    <tr style=\"text-align: right;\">\n",
       "      <th></th>\n",
       "      <th>año</th>\n",
       "      <th>eleccion_tipo</th>\n",
       "      <th>recuento_tipo</th>\n",
       "      <th>padron_tipo</th>\n",
       "      <th>distrito_id</th>\n",
       "      <th>distrito_nombre</th>\n",
       "      <th>seccionprovincial_id</th>\n",
       "      <th>seccionprovincial_nombre</th>\n",
       "      <th>seccion_id</th>\n",
       "      <th>seccion_nombre</th>\n",
       "      <th>...</th>\n",
       "      <th>mesa_tipo</th>\n",
       "      <th>mesa_electores</th>\n",
       "      <th>cargo_id</th>\n",
       "      <th>cargo_nombre</th>\n",
       "      <th>agrupacion_id</th>\n",
       "      <th>agrupacion_nombre</th>\n",
       "      <th>lista_numero</th>\n",
       "      <th>lista_nombre</th>\n",
       "      <th>votos_tipo</th>\n",
       "      <th>votos_cantidad</th>\n",
       "    </tr>\n",
       "  </thead>\n",
       "  <tbody>\n",
       "    <tr>\n",
       "      <th>0</th>\n",
       "      <td>2023</td>\n",
       "      <td>GENERAL</td>\n",
       "      <td>PROVISORIO</td>\n",
       "      <td>NORMAL</td>\n",
       "      <td>1</td>\n",
       "      <td>Ciudad Autónoma de Buenos Aires</td>\n",
       "      <td>0</td>\n",
       "      <td>None</td>\n",
       "      <td>1</td>\n",
       "      <td>Comuna 01</td>\n",
       "      <td>...</td>\n",
       "      <td>NATIVOS</td>\n",
       "      <td>343</td>\n",
       "      <td>1</td>\n",
       "      <td>PRESIDENTE Y VICE</td>\n",
       "      <td>0</td>\n",
       "      <td>None</td>\n",
       "      <td>0.0</td>\n",
       "      <td>None</td>\n",
       "      <td>NULO</td>\n",
       "      <td>0</td>\n",
       "    </tr>\n",
       "    <tr>\n",
       "      <th>1</th>\n",
       "      <td>2023</td>\n",
       "      <td>GENERAL</td>\n",
       "      <td>PROVISORIO</td>\n",
       "      <td>NORMAL</td>\n",
       "      <td>1</td>\n",
       "      <td>Ciudad Autónoma de Buenos Aires</td>\n",
       "      <td>0</td>\n",
       "      <td>None</td>\n",
       "      <td>1</td>\n",
       "      <td>Comuna 01</td>\n",
       "      <td>...</td>\n",
       "      <td>NATIVOS</td>\n",
       "      <td>343</td>\n",
       "      <td>1</td>\n",
       "      <td>PRESIDENTE Y VICE</td>\n",
       "      <td>0</td>\n",
       "      <td>None</td>\n",
       "      <td>0.0</td>\n",
       "      <td>None</td>\n",
       "      <td>IMPUGNADO</td>\n",
       "      <td>0</td>\n",
       "    </tr>\n",
       "    <tr>\n",
       "      <th>2</th>\n",
       "      <td>2023</td>\n",
       "      <td>GENERAL</td>\n",
       "      <td>PROVISORIO</td>\n",
       "      <td>NORMAL</td>\n",
       "      <td>1</td>\n",
       "      <td>Ciudad Autónoma de Buenos Aires</td>\n",
       "      <td>0</td>\n",
       "      <td>None</td>\n",
       "      <td>1</td>\n",
       "      <td>Comuna 01</td>\n",
       "      <td>...</td>\n",
       "      <td>NATIVOS</td>\n",
       "      <td>343</td>\n",
       "      <td>1</td>\n",
       "      <td>PRESIDENTE Y VICE</td>\n",
       "      <td>0</td>\n",
       "      <td>None</td>\n",
       "      <td>0.0</td>\n",
       "      <td>None</td>\n",
       "      <td>RECURRIDO</td>\n",
       "      <td>0</td>\n",
       "    </tr>\n",
       "    <tr>\n",
       "      <th>3</th>\n",
       "      <td>2023</td>\n",
       "      <td>GENERAL</td>\n",
       "      <td>PROVISORIO</td>\n",
       "      <td>NORMAL</td>\n",
       "      <td>1</td>\n",
       "      <td>Ciudad Autónoma de Buenos Aires</td>\n",
       "      <td>0</td>\n",
       "      <td>None</td>\n",
       "      <td>1</td>\n",
       "      <td>Comuna 01</td>\n",
       "      <td>...</td>\n",
       "      <td>NATIVOS</td>\n",
       "      <td>343</td>\n",
       "      <td>1</td>\n",
       "      <td>PRESIDENTE Y VICE</td>\n",
       "      <td>0</td>\n",
       "      <td>None</td>\n",
       "      <td>0.0</td>\n",
       "      <td>None</td>\n",
       "      <td>COMANDO</td>\n",
       "      <td>0</td>\n",
       "    </tr>\n",
       "    <tr>\n",
       "      <th>4</th>\n",
       "      <td>2023</td>\n",
       "      <td>GENERAL</td>\n",
       "      <td>PROVISORIO</td>\n",
       "      <td>NORMAL</td>\n",
       "      <td>1</td>\n",
       "      <td>Ciudad Autónoma de Buenos Aires</td>\n",
       "      <td>0</td>\n",
       "      <td>None</td>\n",
       "      <td>1</td>\n",
       "      <td>Comuna 01</td>\n",
       "      <td>...</td>\n",
       "      <td>NATIVOS</td>\n",
       "      <td>349</td>\n",
       "      <td>1</td>\n",
       "      <td>PRESIDENTE Y VICE</td>\n",
       "      <td>134</td>\n",
       "      <td>UNION POR LA PATRIA</td>\n",
       "      <td>NaN</td>\n",
       "      <td>None</td>\n",
       "      <td>POSITIVO</td>\n",
       "      <td>95</td>\n",
       "    </tr>\n",
       "  </tbody>\n",
       "</table>\n",
       "<p>5 rows × 23 columns</p>\n",
       "</div>"
      ],
      "text/plain": [
       "    año eleccion_tipo recuento_tipo padron_tipo  distrito_id  \\\n",
       "0  2023       GENERAL    PROVISORIO      NORMAL            1   \n",
       "1  2023       GENERAL    PROVISORIO      NORMAL            1   \n",
       "2  2023       GENERAL    PROVISORIO      NORMAL            1   \n",
       "3  2023       GENERAL    PROVISORIO      NORMAL            1   \n",
       "4  2023       GENERAL    PROVISORIO      NORMAL            1   \n",
       "\n",
       "                   distrito_nombre  seccionprovincial_id  \\\n",
       "0  Ciudad Autónoma de Buenos Aires                     0   \n",
       "1  Ciudad Autónoma de Buenos Aires                     0   \n",
       "2  Ciudad Autónoma de Buenos Aires                     0   \n",
       "3  Ciudad Autónoma de Buenos Aires                     0   \n",
       "4  Ciudad Autónoma de Buenos Aires                     0   \n",
       "\n",
       "  seccionprovincial_nombre  seccion_id seccion_nombre  ... mesa_tipo  \\\n",
       "0                     None           1      Comuna 01  ...   NATIVOS   \n",
       "1                     None           1      Comuna 01  ...   NATIVOS   \n",
       "2                     None           1      Comuna 01  ...   NATIVOS   \n",
       "3                     None           1      Comuna 01  ...   NATIVOS   \n",
       "4                     None           1      Comuna 01  ...   NATIVOS   \n",
       "\n",
       "  mesa_electores  cargo_id       cargo_nombre  agrupacion_id  \\\n",
       "0            343         1  PRESIDENTE Y VICE              0   \n",
       "1            343         1  PRESIDENTE Y VICE              0   \n",
       "2            343         1  PRESIDENTE Y VICE              0   \n",
       "3            343         1  PRESIDENTE Y VICE              0   \n",
       "4            349         1  PRESIDENTE Y VICE            134   \n",
       "\n",
       "     agrupacion_nombre lista_numero  lista_nombre votos_tipo  votos_cantidad  \n",
       "0                 None          0.0          None       NULO               0  \n",
       "1                 None          0.0          None  IMPUGNADO               0  \n",
       "2                 None          0.0          None  RECURRIDO               0  \n",
       "3                 None          0.0          None    COMANDO               0  \n",
       "4  UNION POR LA PATRIA          NaN          None   POSITIVO              95  \n",
       "\n",
       "[5 rows x 23 columns]"
      ]
     },
     "execution_count": 12,
     "metadata": {},
     "output_type": "execute_result"
    }
   ],
   "source": [
    "generales.head(5)"
   ]
  },
  {
   "cell_type": "code",
   "execution_count": 35,
   "metadata": {},
   "outputs": [
    {
     "data": {
      "text/plain": [
       "['año',\n",
       " 'eleccion_tipo',\n",
       " 'recuento_tipo',\n",
       " 'padron_tipo',\n",
       " 'distrito_id',\n",
       " 'distrito_nombre',\n",
       " 'seccionprovincial_id',\n",
       " 'seccionprovincial_nombre',\n",
       " 'seccion_id',\n",
       " 'seccion_nombre',\n",
       " 'circuito_id',\n",
       " 'circuito_nombre',\n",
       " 'mesa_id',\n",
       " 'mesa_tipo',\n",
       " 'mesa_electores',\n",
       " 'cargo_id',\n",
       " 'cargo_nombre',\n",
       " 'agrupacion_id',\n",
       " 'agrupacion_nombre',\n",
       " 'lista_numero',\n",
       " 'lista_nombre',\n",
       " 'votos_tipo',\n",
       " 'votos_cantidad']"
      ]
     },
     "execution_count": 35,
     "metadata": {},
     "output_type": "execute_result"
    }
   ],
   "source": [
    "data.columns"
   ]
  },
  {
   "cell_type": "code",
   "execution_count": 40,
   "metadata": {},
   "outputs": [],
   "source": [
    "elecciones_presidenciales = duckdb.sql(\"\"\"select *\n",
    "from data\n",
    "where cargo_id = 1\n",
    "\"\"\")"
   ]
  },
  {
   "cell_type": "code",
   "execution_count": 41,
   "metadata": {},
   "outputs": [],
   "source": [
    "generales_presidenciales = duckdb.sql(\"select * from elecciones_presidenciales where eleccion_tipo = 'GENERAL'\")\n",
    "paso_presidenciales = duckdb.sql(\"select * from elecciones_presidenciales where eleccion_tipo = 'PASO'\")"
   ]
  },
  {
   "cell_type": "code",
   "execution_count": 5,
   "metadata": {},
   "outputs": [
    {
     "data": {
      "application/vnd.jupyter.widget-view+json": {
       "model_id": "423a1ac970d94599bc4e42626bfe7529",
       "version_major": 2,
       "version_minor": 0
      },
      "text/plain": [
       "FloatProgress(value=0.0, layout=Layout(width='auto'), style=ProgressStyle(bar_color='black'))"
      ]
     },
     "metadata": {},
     "output_type": "display_data"
    }
   ],
   "source": [
    "participacion = duckdb.sql(\"\"\"select eleccion_tipo, agrupacion_nombre,sum(votos_cantidad) as count \n",
    "from elecciones_presidenciales\n",
    "group by 1,2\"\"\").df()"
   ]
  },
  {
   "cell_type": "code",
   "execution_count": 6,
   "metadata": {},
   "outputs": [
    {
     "data": {
      "application/vnd.jupyter.widget-view+json": {
       "model_id": "682a217ee23f4f8489c5d3e322836878",
       "version_major": 2,
       "version_minor": 0
      },
      "text/plain": [
       "FloatProgress(value=0.0, layout=Layout(width='auto'), style=ProgressStyle(bar_color='black'))"
      ]
     },
     "metadata": {},
     "output_type": "display_data"
    }
   ],
   "source": [
    "agrupaciones = duckdb.sql(\"\"\"select distinct agrupacion_nombre\n",
    "from elecciones_presidenciales\n",
    "\"\"\").df()"
   ]
  },
  {
   "cell_type": "code",
   "execution_count": 7,
   "metadata": {},
   "outputs": [
    {
     "data": {
      "text/html": [
       "\n",
       "<style>\n",
       "  #altair-viz-297c30ddc6e648bd830bb67c1ed0a552.vega-embed {\n",
       "    width: 100%;\n",
       "    display: flex;\n",
       "  }\n",
       "\n",
       "  #altair-viz-297c30ddc6e648bd830bb67c1ed0a552.vega-embed details,\n",
       "  #altair-viz-297c30ddc6e648bd830bb67c1ed0a552.vega-embed details summary {\n",
       "    position: relative;\n",
       "  }\n",
       "</style>\n",
       "<div id=\"altair-viz-297c30ddc6e648bd830bb67c1ed0a552\"></div>\n",
       "<script type=\"text/javascript\">\n",
       "  var VEGA_DEBUG = (typeof VEGA_DEBUG == \"undefined\") ? {} : VEGA_DEBUG;\n",
       "  (function(spec, embedOpt){\n",
       "    let outputDiv = document.currentScript.previousElementSibling;\n",
       "    if (outputDiv.id !== \"altair-viz-297c30ddc6e648bd830bb67c1ed0a552\") {\n",
       "      outputDiv = document.getElementById(\"altair-viz-297c30ddc6e648bd830bb67c1ed0a552\");\n",
       "    }\n",
       "    const paths = {\n",
       "      \"vega\": \"https://cdn.jsdelivr.net/npm/vega@5?noext\",\n",
       "      \"vega-lib\": \"https://cdn.jsdelivr.net/npm/vega-lib?noext\",\n",
       "      \"vega-lite\": \"https://cdn.jsdelivr.net/npm/vega-lite@5.15.1?noext\",\n",
       "      \"vega-embed\": \"https://cdn.jsdelivr.net/npm/vega-embed@6?noext\",\n",
       "    };\n",
       "\n",
       "    function maybeLoadScript(lib, version) {\n",
       "      var key = `${lib.replace(\"-\", \"\")}_version`;\n",
       "      return (VEGA_DEBUG[key] == version) ?\n",
       "        Promise.resolve(paths[lib]) :\n",
       "        new Promise(function(resolve, reject) {\n",
       "          var s = document.createElement('script');\n",
       "          document.getElementsByTagName(\"head\")[0].appendChild(s);\n",
       "          s.async = true;\n",
       "          s.onload = () => {\n",
       "            VEGA_DEBUG[key] = version;\n",
       "            return resolve(paths[lib]);\n",
       "          };\n",
       "          s.onerror = () => reject(`Error loading script: ${paths[lib]}`);\n",
       "          s.src = paths[lib];\n",
       "        });\n",
       "    }\n",
       "\n",
       "    function showError(err) {\n",
       "      outputDiv.innerHTML = `<div class=\"error\" style=\"color:red;\">${err}</div>`;\n",
       "      throw err;\n",
       "    }\n",
       "\n",
       "    function displayChart(vegaEmbed) {\n",
       "      vegaEmbed(outputDiv, spec, embedOpt)\n",
       "        .catch(err => showError(`Javascript Error: ${err.message}<br>This usually means there's a typo in your chart specification. See the javascript console for the full traceback.`));\n",
       "    }\n",
       "\n",
       "    if(typeof define === \"function\" && define.amd) {\n",
       "      requirejs.config({paths});\n",
       "      require([\"vega-embed\"], displayChart, err => showError(`Error loading script: ${err.message}`));\n",
       "    } else {\n",
       "      maybeLoadScript(\"vega\", \"5\")\n",
       "        .then(() => maybeLoadScript(\"vega-lite\", \"5.15.1\"))\n",
       "        .then(() => maybeLoadScript(\"vega-embed\", \"6\"))\n",
       "        .catch(showError)\n",
       "        .then(() => displayChart(vegaEmbed));\n",
       "    }\n",
       "  })({\"config\": {\"view\": {\"continuousWidth\": 300, \"continuousHeight\": 300}}, \"data\": {\"name\": \"data-4cd59ca105c5b4a51d3ad010c25e0c55\"}, \"mark\": {\"type\": \"bar\"}, \"encoding\": {\"x\": {\"field\": \"count\", \"type\": \"quantitative\"}, \"y\": {\"field\": \"eleccion_tipo\", \"type\": \"nominal\"}}, \"$schema\": \"https://vega.github.io/schema/vega-lite/v5.15.1.json\", \"datasets\": {\"data-4cd59ca105c5b4a51d3ad010c25e0c55\": [{\"eleccion_tipo\": \"PASO\", \"agrupacion_nombre\": \"FRENTE PATRIOTA FEDERAL\", \"count\": 50842.0}, {\"eleccion_tipo\": \"PASO\", \"agrupacion_nombre\": \"UNION POR LA PATRIA\", \"count\": 6460689.0}, {\"eleccion_tipo\": \"GENERAL\", \"agrupacion_nombre\": \"LA LIBERTAD AVANZA\", \"count\": 7884336.0}, {\"eleccion_tipo\": \"GENERAL\", \"agrupacion_nombre\": \"FRENTE DE IZQUIERDA Y DE TRABAJADORES - UNIDAD\", \"count\": 709932.0}, {\"eleccion_tipo\": \"GENERAL\", \"agrupacion_nombre\": \"HACEMOS POR NUESTRO PAIS\", \"count\": 1784315.0}, {\"eleccion_tipo\": \"PASO\", \"agrupacion_nombre\": \"UNION DEL CENTRO DEMOCRATICO\", \"count\": 11982.0}, {\"eleccion_tipo\": \"PASO\", \"agrupacion_nombre\": \"JUNTOS POR EL CAMBIO\", \"count\": 6698029.0}, {\"eleccion_tipo\": \"PASO\", \"agrupacion_nombre\": \"PROYECTO JOVEN\", \"count\": 23870.0}, {\"eleccion_tipo\": \"GENERAL\", \"agrupacion_nombre\": null, \"count\": 808957.0}, {\"eleccion_tipo\": \"PASO\", \"agrupacion_nombre\": \"MOVIMIENTO LIBRES DEL SUR\", \"count\": 154338.0}, {\"eleccion_tipo\": \"GENERAL\", \"agrupacion_nombre\": \"UNION POR LA PATRIA\", \"count\": 9645983.0}, {\"eleccion_tipo\": \"PASO\", \"agrupacion_nombre\": \"FRENTE LIBER.AR\", \"count\": 26962.0}, {\"eleccion_tipo\": \"PASO\", \"agrupacion_nombre\": \"MOVIMIENTO AL SOCIALISMO\", \"count\": 85628.0}, {\"eleccion_tipo\": \"GENERAL\", \"agrupacion_nombre\": \"JUNTOS POR EL CAMBIO\", \"count\": 6267152.0}, {\"eleccion_tipo\": \"PASO\", \"agrupacion_nombre\": \"HACEMOS POR NUESTRO PAIS\", \"count\": 907437.0}, {\"eleccion_tipo\": \"PASO\", \"agrupacion_nombre\": \"LA LIBERTAD AVANZA\", \"count\": 7116352.0}, {\"eleccion_tipo\": \"PASO\", \"agrupacion_nombre\": \"FRENTE DE IZQUIERDA Y DE TRABAJADORES - UNIDAD\", \"count\": 628893.0}, {\"eleccion_tipo\": \"PASO\", \"agrupacion_nombre\": \"POLITICA OBRERA\", \"count\": 62404.0}, {\"eleccion_tipo\": \"PASO\", \"agrupacion_nombre\": \"MOVIMIENTO DE ACCION VECINAL\", \"count\": 42252.0}, {\"eleccion_tipo\": \"PASO\", \"agrupacion_nombre\": null, \"count\": 1477233.0}, {\"eleccion_tipo\": \"PASO\", \"agrupacion_nombre\": \"PRINCIPIOS Y VALORES\", \"count\": 187893.0}, {\"eleccion_tipo\": \"PASO\", \"agrupacion_nombre\": \"MOVIMIENTO IZQUIERDA JUVENTUD Y DIGNIDAD\", \"count\": 81972.0}]}}, {\"mode\": \"vega-lite\"});\n",
       "</script>"
      ],
      "text/plain": [
       "alt.Chart(...)"
      ]
     },
     "execution_count": 7,
     "metadata": {},
     "output_type": "execute_result"
    }
   ],
   "source": [
    "import altair as alt\n",
    "\n",
    "colorlist=[]\n",
    "\n",
    "alt.Chart(participacion).mark_bar().encode(\n",
    "    x=\"count\",\n",
    "    y='eleccion_tipo',\n",
    "    # color=alt.Color('agrupacion_nombre').scale(domain=agrupaciones, range=colorlist)\n",
    ")\n"
   ]
  },
  {
   "cell_type": "code",
   "execution_count": 42,
   "metadata": {},
   "outputs": [
    {
     "data": {
      "text/plain": [
       "┌───────────────┐\n",
       "│ agrupacion_id │\n",
       "│     int64     │\n",
       "├───────────────┤\n",
       "│             0 │\n",
       "│           134 │\n",
       "│           132 │\n",
       "│           135 │\n",
       "│           136 │\n",
       "│           133 │\n",
       "└───────────────┘"
      ]
     },
     "execution_count": 42,
     "metadata": {},
     "output_type": "execute_result"
    }
   ],
   "source": [
    "partidos = duckdb.sql(\"\"\"select distinct agrupacion_id\n",
    "from generales_presidenciales\n",
    "\"\"\")\n",
    "partidos"
   ]
  },
  {
   "cell_type": "code",
   "execution_count": 90,
   "metadata": {},
   "outputs": [
    {
     "data": {
      "application/vnd.jupyter.widget-view+json": {
       "model_id": "943883a4fb0a48ddaf622beb7fee0de0",
       "version_major": 2,
       "version_minor": 0
      },
      "text/plain": [
       "FloatProgress(value=0.0, layout=Layout(width='auto'), style=ProgressStyle(bar_color='black'))"
      ]
     },
     "metadata": {},
     "output_type": "display_data"
    },
    {
     "data": {
      "text/html": [
       "<div>\n",
       "<style scoped>\n",
       "    .dataframe tbody tr th:only-of-type {\n",
       "        vertical-align: middle;\n",
       "    }\n",
       "\n",
       "    .dataframe tbody tr th {\n",
       "        vertical-align: top;\n",
       "    }\n",
       "\n",
       "    .dataframe thead th {\n",
       "        text-align: right;\n",
       "    }\n",
       "</style>\n",
       "<table border=\"1\" class=\"dataframe\">\n",
       "  <thead>\n",
       "    <tr style=\"text-align: right;\">\n",
       "      <th></th>\n",
       "      <th>partido</th>\n",
       "      <th>cantidad</th>\n",
       "      <th>porcentaje</th>\n",
       "    </tr>\n",
       "  </thead>\n",
       "  <tbody>\n",
       "    <tr>\n",
       "      <th>0</th>\n",
       "      <td>UNION POR LA PATRIA</td>\n",
       "      <td>9645983.0</td>\n",
       "      <td>35.593147</td>\n",
       "    </tr>\n",
       "    <tr>\n",
       "      <th>1</th>\n",
       "      <td>LA LIBERTAD AVANZA</td>\n",
       "      <td>7884336.0</td>\n",
       "      <td>29.092766</td>\n",
       "    </tr>\n",
       "    <tr>\n",
       "      <th>2</th>\n",
       "      <td>JUNTOS POR EL CAMBIO</td>\n",
       "      <td>6267152.0</td>\n",
       "      <td>23.125446</td>\n",
       "    </tr>\n",
       "    <tr>\n",
       "      <th>3</th>\n",
       "      <td>HACEMOS POR NUESTRO PAIS</td>\n",
       "      <td>1784315.0</td>\n",
       "      <td>6.584024</td>\n",
       "    </tr>\n",
       "    <tr>\n",
       "      <th>4</th>\n",
       "      <td>FRENTE DE IZQUIERDA Y DE TRABAJADORES - UNIDAD</td>\n",
       "      <td>709932.0</td>\n",
       "      <td>2.619610</td>\n",
       "    </tr>\n",
       "  </tbody>\n",
       "</table>\n",
       "</div>"
      ],
      "text/plain": [
       "                                          partido   cantidad  porcentaje\n",
       "0                             UNION POR LA PATRIA  9645983.0   35.593147\n",
       "1                              LA LIBERTAD AVANZA  7884336.0   29.092766\n",
       "2                            JUNTOS POR EL CAMBIO  6267152.0   23.125446\n",
       "3                        HACEMOS POR NUESTRO PAIS  1784315.0    6.584024\n",
       "4  FRENTE DE IZQUIERDA Y DE TRABAJADORES - UNIDAD   709932.0    2.619610"
      ]
     },
     "execution_count": 90,
     "metadata": {},
     "output_type": "execute_result"
    }
   ],
   "source": [
    "rendimiento_generales = duckdb.sql(\"\"\"select agrupacion_nombre as partido, sum(votos_cantidad) as cantidad, (sum(votos_cantidad)/(select sum(votos_cantidad) from generales_presidenciales)*100) as porcentaje\n",
    "from generales_presidenciales\n",
    "where agrupacion_nombre is not null\n",
    "group by agrupacion_nombre\n",
    "order by 3 desc\n",
    "\"\"\").df()\n",
    "rendimiento_generales"
   ]
  },
  {
   "cell_type": "code",
   "execution_count": 60,
   "metadata": {},
   "outputs": [
    {
     "data": {
      "application/vnd.jupyter.widget-view+json": {
       "model_id": "d7002dbcc9b44080be03982ccb6328f2",
       "version_major": 2,
       "version_minor": 0
      },
      "text/plain": [
       "FloatProgress(value=0.0, layout=Layout(width='auto'), style=ProgressStyle(bar_color='black'))"
      ]
     },
     "metadata": {},
     "output_type": "display_data"
    },
    {
     "data": {
      "text/html": [
       "<div>\n",
       "<style scoped>\n",
       "    .dataframe tbody tr th:only-of-type {\n",
       "        vertical-align: middle;\n",
       "    }\n",
       "\n",
       "    .dataframe tbody tr th {\n",
       "        vertical-align: top;\n",
       "    }\n",
       "\n",
       "    .dataframe thead th {\n",
       "        text-align: right;\n",
       "    }\n",
       "</style>\n",
       "<table border=\"1\" class=\"dataframe\">\n",
       "  <thead>\n",
       "    <tr style=\"text-align: right;\">\n",
       "      <th></th>\n",
       "      <th>partido</th>\n",
       "      <th>cantidad</th>\n",
       "      <th>porcentaje</th>\n",
       "    </tr>\n",
       "  </thead>\n",
       "  <tbody>\n",
       "    <tr>\n",
       "      <th>0</th>\n",
       "      <td>LA LIBERTAD AVANZA</td>\n",
       "      <td>7116352.0</td>\n",
       "      <td>29.630755</td>\n",
       "    </tr>\n",
       "    <tr>\n",
       "      <th>1</th>\n",
       "      <td>JUNTOS POR EL CAMBIO</td>\n",
       "      <td>6698029.0</td>\n",
       "      <td>27.888960</td>\n",
       "    </tr>\n",
       "    <tr>\n",
       "      <th>2</th>\n",
       "      <td>UNION POR LA PATRIA</td>\n",
       "      <td>6460689.0</td>\n",
       "      <td>26.900734</td>\n",
       "    </tr>\n",
       "    <tr>\n",
       "      <th>3</th>\n",
       "      <td>HACEMOS POR NUESTRO PAIS</td>\n",
       "      <td>907437.0</td>\n",
       "      <td>3.778346</td>\n",
       "    </tr>\n",
       "    <tr>\n",
       "      <th>4</th>\n",
       "      <td>FRENTE DE IZQUIERDA Y DE TRABAJADORES - UNIDAD</td>\n",
       "      <td>628893.0</td>\n",
       "      <td>2.618557</td>\n",
       "    </tr>\n",
       "  </tbody>\n",
       "</table>\n",
       "</div>"
      ],
      "text/plain": [
       "                                          partido   cantidad  porcentaje\n",
       "0                              LA LIBERTAD AVANZA  7116352.0   29.630755\n",
       "1                            JUNTOS POR EL CAMBIO  6698029.0   27.888960\n",
       "2                             UNION POR LA PATRIA  6460689.0   26.900734\n",
       "3                        HACEMOS POR NUESTRO PAIS   907437.0    3.778346\n",
       "4  FRENTE DE IZQUIERDA Y DE TRABAJADORES - UNIDAD   628893.0    2.618557"
      ]
     },
     "execution_count": 60,
     "metadata": {},
     "output_type": "execute_result"
    }
   ],
   "source": [
    "rendimiento_paso = duckdb.sql(\"\"\"select agrupacion_nombre as partido, sum(votos_cantidad) as cantidad, (sum(votos_cantidad)/(select sum(votos_cantidad) from paso_presidenciales)*100) as porcentaje\n",
    "from paso_presidenciales\n",
    "where agrupacion_nombre in (select distinct agrupacion_nombre from generales_presidenciales)\n",
    "group by agrupacion_nombre\n",
    "order by 3 desc\n",
    "\"\"\").df()\n",
    "rendimiento_paso"
   ]
  },
  {
   "cell_type": "code",
   "execution_count": 91,
   "metadata": {},
   "outputs": [
    {
     "data": {
      "text/html": [
       "\n",
       "<style>\n",
       "  #altair-viz-5fde1e8ea7ca496b83d0933f0f0feb2e.vega-embed {\n",
       "    width: 100%;\n",
       "    display: flex;\n",
       "  }\n",
       "\n",
       "  #altair-viz-5fde1e8ea7ca496b83d0933f0f0feb2e.vega-embed details,\n",
       "  #altair-viz-5fde1e8ea7ca496b83d0933f0f0feb2e.vega-embed details summary {\n",
       "    position: relative;\n",
       "  }\n",
       "</style>\n",
       "<div id=\"altair-viz-5fde1e8ea7ca496b83d0933f0f0feb2e\"></div>\n",
       "<script type=\"text/javascript\">\n",
       "  var VEGA_DEBUG = (typeof VEGA_DEBUG == \"undefined\") ? {} : VEGA_DEBUG;\n",
       "  (function(spec, embedOpt){\n",
       "    let outputDiv = document.currentScript.previousElementSibling;\n",
       "    if (outputDiv.id !== \"altair-viz-5fde1e8ea7ca496b83d0933f0f0feb2e\") {\n",
       "      outputDiv = document.getElementById(\"altair-viz-5fde1e8ea7ca496b83d0933f0f0feb2e\");\n",
       "    }\n",
       "    const paths = {\n",
       "      \"vega\": \"https://cdn.jsdelivr.net/npm/vega@5?noext\",\n",
       "      \"vega-lib\": \"https://cdn.jsdelivr.net/npm/vega-lib?noext\",\n",
       "      \"vega-lite\": \"https://cdn.jsdelivr.net/npm/vega-lite@5.15.1?noext\",\n",
       "      \"vega-embed\": \"https://cdn.jsdelivr.net/npm/vega-embed@6?noext\",\n",
       "    };\n",
       "\n",
       "    function maybeLoadScript(lib, version) {\n",
       "      var key = `${lib.replace(\"-\", \"\")}_version`;\n",
       "      return (VEGA_DEBUG[key] == version) ?\n",
       "        Promise.resolve(paths[lib]) :\n",
       "        new Promise(function(resolve, reject) {\n",
       "          var s = document.createElement('script');\n",
       "          document.getElementsByTagName(\"head\")[0].appendChild(s);\n",
       "          s.async = true;\n",
       "          s.onload = () => {\n",
       "            VEGA_DEBUG[key] = version;\n",
       "            return resolve(paths[lib]);\n",
       "          };\n",
       "          s.onerror = () => reject(`Error loading script: ${paths[lib]}`);\n",
       "          s.src = paths[lib];\n",
       "        });\n",
       "    }\n",
       "\n",
       "    function showError(err) {\n",
       "      outputDiv.innerHTML = `<div class=\"error\" style=\"color:red;\">${err}</div>`;\n",
       "      throw err;\n",
       "    }\n",
       "\n",
       "    function displayChart(vegaEmbed) {\n",
       "      vegaEmbed(outputDiv, spec, embedOpt)\n",
       "        .catch(err => showError(`Javascript Error: ${err.message}<br>This usually means there's a typo in your chart specification. See the javascript console for the full traceback.`));\n",
       "    }\n",
       "\n",
       "    if(typeof define === \"function\" && define.amd) {\n",
       "      requirejs.config({paths});\n",
       "      require([\"vega-embed\"], displayChart, err => showError(`Error loading script: ${err.message}`));\n",
       "    } else {\n",
       "      maybeLoadScript(\"vega\", \"5\")\n",
       "        .then(() => maybeLoadScript(\"vega-lite\", \"5.15.1\"))\n",
       "        .then(() => maybeLoadScript(\"vega-embed\", \"6\"))\n",
       "        .catch(showError)\n",
       "        .then(() => displayChart(vegaEmbed));\n",
       "    }\n",
       "  })({\"config\": {\"view\": {\"continuousWidth\": 300, \"continuousHeight\": 300}}, \"data\": {\"name\": \"data-69a725593ad98d12307822a6e3a6ff71\"}, \"mark\": {\"type\": \"bar\"}, \"encoding\": {\"color\": {\"field\": \"partido\", \"scale\": {\"domain\": [\"UNION POR LA PATRIA\", \"HACEMOS POR NUESTRO PAIS\", \"FRENTE DE IZQUIERDA Y DE TRABAJADORES - UNIDAD\", \"JUNTOS POR EL CAMBIO\", \"LA LIBERTAD AVANZA\"], \"range\": [\"#6BADDB\", \"#70BAA0\", \"#E88D8D\", \"#F8D34B\", \"#B29CD8\"]}, \"type\": \"nominal\"}, \"x\": {\"field\": \"cantidad\", \"type\": \"quantitative\"}, \"y\": {\"field\": \"partido\", \"type\": \"nominal\"}}, \"title\": \"Rendimiento de los partidos en las generales\", \"$schema\": \"https://vega.github.io/schema/vega-lite/v5.15.1.json\", \"datasets\": {\"data-69a725593ad98d12307822a6e3a6ff71\": [{\"partido\": \"UNION POR LA PATRIA\", \"cantidad\": 9645983.0, \"porcentaje\": 35.59314666516609}, {\"partido\": \"LA LIBERTAD AVANZA\", \"cantidad\": 7884336.0, \"porcentaje\": 29.092766139588772}, {\"partido\": \"JUNTOS POR EL CAMBIO\", \"cantidad\": 6267152.0, \"porcentaje\": 23.125446137411707}, {\"partido\": \"HACEMOS POR NUESTRO PAIS\", \"cantidad\": 1784315.0, \"porcentaje\": 6.584024198659258}, {\"partido\": \"FRENTE DE IZQUIERDA Y DE TRABAJADORES - UNIDAD\", \"cantidad\": 709932.0, \"porcentaje\": 2.619610028163505}]}}, {\"mode\": \"vega-lite\"});\n",
       "</script>"
      ],
      "text/plain": [
       "alt.Chart(...)"
      ]
     },
     "execution_count": 91,
     "metadata": {},
     "output_type": "execute_result"
    }
   ],
   "source": [
    "import altair as alt\n",
    "import pandas as pd\n",
    "\n",
    "color_scale = alt.Scale(\n",
    "    domain=['UNION POR LA PATRIA', 'HACEMOS POR NUESTRO PAIS', 'FRENTE DE IZQUIERDA Y DE TRABAJADORES - UNIDAD', 'JUNTOS POR EL CAMBIO', 'LA LIBERTAD AVANZA'],\n",
    "    range=['#6BADDB', '#70BAA0', '#E88D8D', '#F8D34B', '#B29CD8']\n",
    ")\n",
    "\n",
    "# Chart for table1\n",
    "chart_table1 = alt.Chart(rendimiento_paso).mark_bar().encode(\n",
    "    alt.X('cantidad:Q'),\n",
    "    alt.Y('partido:N'),\n",
    "    color=alt.Color('partido:N', scale=color_scale),\n",
    ").properties(\n",
    "    title='Rendimiento de los partidos en las PASO'\n",
    ")\n",
    "\n",
    "# Chart for table2\n",
    "chart_table2 = alt.Chart(rendimiento_generales).mark_bar().encode(\n",
    "    x='cantidad:Q',\n",
    "    y='partido:N',\n",
    "    color=alt.Color('partido:N', scale=color_scale),\n",
    ").properties(\n",
    "    title='Rendimiento de los partidos en las generales'\n",
    ")"
   ]
  }
 ],
 "metadata": {
  "kernelspec": {
   "display_name": "Python 3.10.8 64-bit",
   "language": "python",
   "name": "python3"
  },
  "language_info": {
   "codemirror_mode": {
    "name": "ipython",
    "version": 3
   },
   "file_extension": ".py",
   "mimetype": "text/x-python",
   "name": "python",
   "nbconvert_exporter": "python",
   "pygments_lexer": "ipython3",
   "version": "3.10.8"
  },
  "orig_nbformat": 4,
  "vscode": {
   "interpreter": {
    "hash": "b0fa6594d8f4cbf19f97940f81e996739fb7646882a419484c72d19e05852a7e"
   }
  }
 },
 "nbformat": 4,
 "nbformat_minor": 2
}
