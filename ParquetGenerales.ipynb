{
 "cells": [
  {
   "cell_type": "code",
   "execution_count": 1,
   "metadata": {},
   "outputs": [],
   "source": [
    "import pandas as pd\n",
    "import duckdb\n",
    "import pyarrow as pa\n",
    "import pyarrow.parquet as pq"
   ]
  },
  {
   "cell_type": "code",
   "execution_count": 4,
   "metadata": {},
   "outputs": [
    {
     "name": "stderr",
     "output_type": "stream",
     "text": [
      "/var/folders/nm/p6xy47c1183cf_fc2brsdbf40000gn/T/ipykernel_21053/2805688737.py:1: DtypeWarning: Columns (7,10,11) have mixed types. Specify dtype option on import or set low_memory=False.\n",
      "  df = pd.read_csv(\"/Users/agusvaser/Downloads/2023_PASO/ResultadosElectorales.csv\")\n"
     ]
    }
   ],
   "source": [
    "df = pd.read_csv(\"/Users/agusvaser/Downloads/2023_PASO/ResultadosElectorales.csv\")"
   ]
  },
  {
   "cell_type": "code",
   "execution_count": 6,
   "metadata": {},
   "outputs": [],
   "source": [
    "ResultadosPresidenciales = duckdb.sql(\"\"\"select *\n",
    "from df\n",
    "where cargo_id = 1\n",
    "\"\"\").df()"
   ]
  },
  {
   "cell_type": "code",
   "execution_count": 8,
   "metadata": {},
   "outputs": [],
   "source": [
    "# Convert Pandas DataFrame to PyArrow Table\n",
    "table = pa.Table.from_pandas(ResultadosPresidenciales)\n",
    "\n",
    "outputpath = \"/Users/agusvaser/Downloads/2023_PASO/output.parquet\"\n",
    "\n",
    "# Write PyArrow Table to Parquet\n",
    "pq.write_table(table, outputpath)"
   ]
  }
 ],
 "metadata": {
  "kernelspec": {
   "display_name": "Python 3.10.8 64-bit",
   "language": "python",
   "name": "python3"
  },
  "language_info": {
   "codemirror_mode": {
    "name": "ipython",
    "version": 3
   },
   "file_extension": ".py",
   "mimetype": "text/x-python",
   "name": "python",
   "nbconvert_exporter": "python",
   "pygments_lexer": "ipython3",
   "version": "3.10.8"
  },
  "orig_nbformat": 4,
  "vscode": {
   "interpreter": {
    "hash": "b0fa6594d8f4cbf19f97940f81e996739fb7646882a419484c72d19e05852a7e"
   }
  }
 },
 "nbformat": 4,
 "nbformat_minor": 2
}
